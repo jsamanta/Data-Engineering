{
 "cells": [
  {
   "cell_type": "markdown",
   "metadata": {},
   "source": [
    "### Your details"
   ]
  },
  {
   "cell_type": "markdown",
   "metadata": {},
   "source": [
    "Your Name: Jaydeep Samanta"
   ]
  },
  {
   "cell_type": "markdown",
   "metadata": {},
   "source": [
    "Your ID number: 21115184"
   ]
  },
  {
   "cell_type": "markdown",
   "metadata": {},
   "source": [
    "# Task 1\n",
    "\n",
    "## Option ? (which option did you pick?)\n",
    "\n",
    "(Describe the task)"
   ]
  },
  {
   "cell_type": "markdown",
   "metadata": {},
   "source": [
    "I choose option 1, Matrix operations. The task was to perform various matrix operations like addition, subtraction, multiplication and to code them using Python. After that we need to create different functions in Python to perform operations like matrix determinant, inverse and transpose."
   ]
  },
  {
   "cell_type": "markdown",
   "metadata": {},
   "source": [
    "## Approach\n",
    "\n",
    "(Describe the approach you took. Describe also how you used the feedback from the forums to improve your code)."
   ]
  },
  {
   "cell_type": "markdown",
   "metadata": {},
   "source": [
    "I started with Python Basics to brush up my skills as I had some experience with Python previously so that was usefull. Then I watched video tutorials of Linear Algebra  (1 Brown 3 Blue) to understand each of the concepts of vectors, matrix, linear transformation and others. Then using both I tried to solve questions given in the assignment, it took me some time to grasp the Linear Algebra as for Python I was already a bit familier.\n",
    "\n",
    "To start with I made a function to calculate matrix size that I used later in other matrix functions like addition, subtraction and so on. Then I created matrix functions for matrix determinant, inverse and transpose that can be used by other functions as well when required. I also added test cases for each functions and also added negative scenarios where it was expected to fail.\n",
    "\n",
    "Forums were quite usefull, for understanding the questions itself and the test cases that were needed to check our code.\n",
    "  "
   ]
  },
  {
   "cell_type": "markdown",
   "metadata": {},
   "source": [
    "## Manual Calculations\n",
    "\n",
    "(Provide details of the manual calculations)"
   ]
  },
  {
   "cell_type": "markdown",
   "metadata": {},
   "source": [
    "# 1. Calculate and return the size of a matrix as a 2-dimensional tuple "
   ]
  },
  {
   "cell_type": "code",
   "execution_count": 126,
   "metadata": {},
   "outputs": [],
   "source": [
    "def matrix_size(M):\n",
    "    rows = len(M)\n",
    "    cols = len(M[0])\n",
    "    return(rows, cols)"
   ]
  },
  {
   "cell_type": "markdown",
   "metadata": {},
   "source": [
    "Let's take a 2x2 matrix say M to check matrix size"
   ]
  },
  {
   "cell_type": "code",
   "execution_count": 127,
   "metadata": {},
   "outputs": [],
   "source": [
    "M = [[1,2],[3,4]]"
   ]
  },
  {
   "cell_type": "code",
   "execution_count": 128,
   "metadata": {},
   "outputs": [
    {
     "data": {
      "text/plain": [
       "(2, 2)"
      ]
     },
     "execution_count": 128,
     "metadata": {},
     "output_type": "execute_result"
    }
   ],
   "source": [
    "matrix_size(M)"
   ]
  },
  {
   "cell_type": "markdown",
   "metadata": {},
   "source": [
    "Let's try with a 3x2 matrix"
   ]
  },
  {
   "cell_type": "code",
   "execution_count": 129,
   "metadata": {},
   "outputs": [],
   "source": [
    "M1 = [[1,2],[2,3],[4,5]]"
   ]
  },
  {
   "cell_type": "code",
   "execution_count": 130,
   "metadata": {},
   "outputs": [
    {
     "data": {
      "text/plain": [
       "(3, 2)"
      ]
     },
     "execution_count": 130,
     "metadata": {},
     "output_type": "execute_result"
    }
   ],
   "source": [
    "matrix_size(M1)"
   ]
  },
  {
   "cell_type": "markdown",
   "metadata": {},
   "source": [
    "# 2. Sum/subtract the matrix with another matrix of suitable size "
   ]
  },
  {
   "cell_type": "markdown",
   "metadata": {},
   "source": [
    "We need to add two matrix but those two should be of the same size or else it will raise error. So first we will create a zero matrix function to store results"
   ]
  },
  {
   "cell_type": "code",
   "execution_count": 131,
   "metadata": {},
   "outputs": [],
   "source": [
    "# Zero Matrix Function"
   ]
  },
  {
   "cell_type": "code",
   "execution_count": 132,
   "metadata": {},
   "outputs": [],
   "source": [
    "def zero_matrix(rows,cols):\n",
    "    Z = []\n",
    "    for i in range(rows):\n",
    "        Z.append([0]* cols)\n",
    "    return Z"
   ]
  },
  {
   "cell_type": "code",
   "execution_count": 133,
   "metadata": {},
   "outputs": [],
   "source": [
    "# Lets check with an example"
   ]
  },
  {
   "cell_type": "code",
   "execution_count": 134,
   "metadata": {},
   "outputs": [
    {
     "data": {
      "text/plain": [
       "[[0, 0]]"
      ]
     },
     "execution_count": 134,
     "metadata": {},
     "output_type": "execute_result"
    }
   ],
   "source": [
    "zero_matrix(1,2)"
   ]
  },
  {
   "cell_type": "code",
   "execution_count": 135,
   "metadata": {},
   "outputs": [
    {
     "data": {
      "text/plain": [
       "[[0, 0], [0, 0], [0, 0]]"
      ]
     },
     "execution_count": 135,
     "metadata": {},
     "output_type": "execute_result"
    }
   ],
   "source": [
    "zero_matrix(3,2)"
   ]
  },
  {
   "cell_type": "markdown",
   "metadata": {},
   "source": [
    "Function to add two matrix of same size\n",
    "First we will check if size of both the matrix are same if not we will raise an exception and if they are same we will proceed\n",
    "To add two matrix we use below method:\n",
    "    \n",
    "    M1 = [a b] \n",
    "         [c d] \n",
    "         \n",
    "    M2 = [e f]\n",
    "         [g h]\n",
    "         \n",
    "    M1 + M2 = [a+e  b+f]\n",
    "              [c+g  d+h]"
   ]
  },
  {
   "cell_type": "code",
   "execution_count": 136,
   "metadata": {},
   "outputs": [],
   "source": [
    "def add_matrix(M1,M2):\n",
    "    # get size of both the matrix and compare\n",
    "    # when matrix is not 2x2 we raise exception\n",
    "    if matrix_size(M1) != matrix_size(M2):\n",
    "        raise Exception(\"{} and {} matrix do not have same size\".format(M1,M2))\n",
    "    else:\n",
    "        result = zero_matrix(len(M1),len(M1[0]))\n",
    "        for i in range(len(M1)): # iterate through rows of M1 matrix\n",
    "            for j in range(len(M1[0])): # iterate through columns of M1 matrix\n",
    "                result[i][j] = M1[i][j] + M2[i][j] # add elements of M1 with M2 matrix and save in result matrix\n",
    "        return result"
   ]
  },
  {
   "cell_type": "code",
   "execution_count": 137,
   "metadata": {},
   "outputs": [],
   "source": [
    "# Lets take a 2x2 matrix and try to add with another 2x2 matrix"
   ]
  },
  {
   "cell_type": "code",
   "execution_count": 138,
   "metadata": {},
   "outputs": [],
   "source": [
    "M1 = [[1,2],[3,4]] # 2x2 matrix"
   ]
  },
  {
   "cell_type": "code",
   "execution_count": 139,
   "metadata": {},
   "outputs": [],
   "source": [
    "M2 = [[5,6],[7,8]] # 2x2 matrix"
   ]
  },
  {
   "cell_type": "code",
   "execution_count": 140,
   "metadata": {},
   "outputs": [
    {
     "data": {
      "text/plain": [
       "[[6, 8], [10, 12]]"
      ]
     },
     "execution_count": 140,
     "metadata": {},
     "output_type": "execute_result"
    }
   ],
   "source": [
    "add_matrix(M1,M2) # result is 2x2 matrix"
   ]
  },
  {
   "cell_type": "code",
   "execution_count": 141,
   "metadata": {},
   "outputs": [],
   "source": [
    "# Now let's try to add a 2x2 matrix with a 3x2 matrix "
   ]
  },
  {
   "cell_type": "code",
   "execution_count": 142,
   "metadata": {},
   "outputs": [],
   "source": [
    "M3 = [[3,4],[4,5],[6,7]] # 3x2 matrix"
   ]
  },
  {
   "cell_type": "code",
   "execution_count": 143,
   "metadata": {},
   "outputs": [
    {
     "ename": "Exception",
     "evalue": "[[1, 2], [3, 4]] and [[3, 4], [4, 5], [6, 7]] matrix do not have same size",
     "output_type": "error",
     "traceback": [
      "\u001b[1;31m---------------------------------------------------------------------------\u001b[0m",
      "\u001b[1;31mException\u001b[0m                                 Traceback (most recent call last)",
      "\u001b[1;32m~\\AppData\\Local\\Temp/ipykernel_7120/945910405.py\u001b[0m in \u001b[0;36m<module>\u001b[1;34m\u001b[0m\n\u001b[1;32m----> 1\u001b[1;33m \u001b[0madd_matrix\u001b[0m\u001b[1;33m(\u001b[0m\u001b[0mM1\u001b[0m\u001b[1;33m,\u001b[0m\u001b[0mM3\u001b[0m\u001b[1;33m)\u001b[0m\u001b[1;33m\u001b[0m\u001b[1;33m\u001b[0m\u001b[0m\n\u001b[0m",
      "\u001b[1;32m~\\AppData\\Local\\Temp/ipykernel_7120/4026335108.py\u001b[0m in \u001b[0;36madd_matrix\u001b[1;34m(M1, M2)\u001b[0m\n\u001b[0;32m      3\u001b[0m     \u001b[1;31m# when matrix is not 2x2 we raise exception\u001b[0m\u001b[1;33m\u001b[0m\u001b[1;33m\u001b[0m\u001b[1;33m\u001b[0m\u001b[0m\n\u001b[0;32m      4\u001b[0m     \u001b[1;32mif\u001b[0m \u001b[0mmatrix_size\u001b[0m\u001b[1;33m(\u001b[0m\u001b[0mM1\u001b[0m\u001b[1;33m)\u001b[0m \u001b[1;33m!=\u001b[0m \u001b[0mmatrix_size\u001b[0m\u001b[1;33m(\u001b[0m\u001b[0mM2\u001b[0m\u001b[1;33m)\u001b[0m\u001b[1;33m:\u001b[0m\u001b[1;33m\u001b[0m\u001b[1;33m\u001b[0m\u001b[0m\n\u001b[1;32m----> 5\u001b[1;33m         \u001b[1;32mraise\u001b[0m \u001b[0mException\u001b[0m\u001b[1;33m(\u001b[0m\u001b[1;34m\"{} and {} matrix do not have same size\"\u001b[0m\u001b[1;33m.\u001b[0m\u001b[0mformat\u001b[0m\u001b[1;33m(\u001b[0m\u001b[0mM1\u001b[0m\u001b[1;33m,\u001b[0m\u001b[0mM2\u001b[0m\u001b[1;33m)\u001b[0m\u001b[1;33m)\u001b[0m\u001b[1;33m\u001b[0m\u001b[1;33m\u001b[0m\u001b[0m\n\u001b[0m\u001b[0;32m      6\u001b[0m     \u001b[1;32melse\u001b[0m\u001b[1;33m:\u001b[0m\u001b[1;33m\u001b[0m\u001b[1;33m\u001b[0m\u001b[0m\n\u001b[0;32m      7\u001b[0m         \u001b[0mresult\u001b[0m \u001b[1;33m=\u001b[0m \u001b[0mzero_matrix\u001b[0m\u001b[1;33m(\u001b[0m\u001b[0mlen\u001b[0m\u001b[1;33m(\u001b[0m\u001b[0mM1\u001b[0m\u001b[1;33m)\u001b[0m\u001b[1;33m,\u001b[0m\u001b[0mlen\u001b[0m\u001b[1;33m(\u001b[0m\u001b[0mM1\u001b[0m\u001b[1;33m[\u001b[0m\u001b[1;36m0\u001b[0m\u001b[1;33m]\u001b[0m\u001b[1;33m)\u001b[0m\u001b[1;33m)\u001b[0m\u001b[1;33m\u001b[0m\u001b[1;33m\u001b[0m\u001b[0m\n",
      "\u001b[1;31mException\u001b[0m: [[1, 2], [3, 4]] and [[3, 4], [4, 5], [6, 7]] matrix do not have same size"
     ]
    }
   ],
   "source": [
    "add_matrix(M1,M3)"
   ]
  },
  {
   "cell_type": "code",
   "execution_count": 144,
   "metadata": {},
   "outputs": [],
   "source": [
    "# So we get an error since we cannot add two matrix of un-equal sizes"
   ]
  },
  {
   "cell_type": "markdown",
   "metadata": {},
   "source": [
    "Subtracting two matrics should be similar to addition\n",
    "Function to subtract two matrix of same size\n",
    "First we will check if size of both the matrix are same if not we will raise an exception and if they are same we will proceed\n",
    "To subtract two matrix we use below method:\n",
    "    \n",
    "    M1 = [a b] \n",
    "         [c d] \n",
    "         \n",
    "    M2 = [e f]\n",
    "         [g h]\n",
    "         \n",
    "    M1 - M2 = [a-e  b-f]\n",
    "              [c-g  d-h]"
   ]
  },
  {
   "cell_type": "code",
   "execution_count": 145,
   "metadata": {},
   "outputs": [],
   "source": [
    "def subtract_matrix(M1,M2):\n",
    "    if matrix_size(M1) != matrix_size(M2):\n",
    "        raise Exception(\"{} and {} matrix do not have same size\".format(M1,M2))\n",
    "    else:\n",
    "        result = zero_matrix(len(M1),len(M1[0]))\n",
    "        for i in range(len(M1)): # iterate through rows of M1 matrix\n",
    "            for j in range(len(M1[0])): # iterate through columns of M2 matrix\n",
    "                result[i][j] = M1[i][j] - M2[i][j]\n",
    "        return result"
   ]
  },
  {
   "cell_type": "code",
   "execution_count": 146,
   "metadata": {},
   "outputs": [
    {
     "data": {
      "text/plain": [
       "[[-4, -4], [-4, -4]]"
      ]
     },
     "execution_count": 146,
     "metadata": {},
     "output_type": "execute_result"
    }
   ],
   "source": [
    "subtract_matrix(M1,M2)"
   ]
  },
  {
   "cell_type": "markdown",
   "metadata": {},
   "source": [
    "# 3. Multiply the matrix with a matrix or vector of suitable size. In this case, we can treat a matrix as size mxn and a vector as a matrix of size nx1 (column vector) "
   ]
  },
  {
   "cell_type": "markdown",
   "metadata": {},
   "source": [
    "We will create a function that will multiply a matrix with another matrix only if the column of first matrix is equal to the row of another matrix or else it will raise an exception\n",
    "For matrix mutiplication we use below method: \n",
    "  \n",
    "    M1 = [a b] \n",
    "         [c d] \n",
    "         \n",
    "    M2 = [e f]\n",
    "         [g h]\n",
    "    \n",
    "    M1 x M2 = [ ae+bg  af+bh ]\n",
    "              [ ce+dg  cf+dh ]"
   ]
  },
  {
   "cell_type": "code",
   "execution_count": 147,
   "metadata": {},
   "outputs": [],
   "source": [
    "def matrix_multiple(M1,M2):\n",
    "    # First we check if column of Matrix M1 is equal to row of matrix M2, if not we raise an exception\n",
    "    rowsM1 = len(M1)\n",
    "    colsM1 = len(M1[0])\n",
    "    rowsM2 = len(M2)\n",
    "    colsM2 = len(M2[0])\n",
    "    if colsM1 != rowsM2:\n",
    "        raise Exception(\"Columns of first matrix is not equal to rows of second matrix, {} and {} cannot be multiplied\".format(M1,M2))\n",
    "    else:\n",
    "        print(\"Columns of first matrix is equal to rows of second matrix\")\n",
    "        result = []\n",
    "        for i in range(rowsM1): # iterate through rows of first matrix M1\n",
    "            temp = []\n",
    "            for j in range(colsM2): # iterate through columns of second matrix M2\n",
    "                sum = 0\n",
    "                for k in range(colsM1): # iterate through columns of first matrix M1\n",
    "                    sum += M1[i][k] * M2[k][j]\n",
    "                temp.append(sum)\n",
    "            result.append(temp)\n",
    "    return result"
   ]
  },
  {
   "cell_type": "code",
   "execution_count": 148,
   "metadata": {},
   "outputs": [],
   "source": [
    "M1 = [[1,2],[3,4],[5,6]] # 3x2 matrix"
   ]
  },
  {
   "cell_type": "code",
   "execution_count": 149,
   "metadata": {},
   "outputs": [],
   "source": [
    "M2 = [[5,6,1],[7,8,2]] # 2x3 matrix"
   ]
  },
  {
   "cell_type": "markdown",
   "metadata": {},
   "source": [
    "Result matrix should be a 3x3 matrix"
   ]
  },
  {
   "cell_type": "code",
   "execution_count": 150,
   "metadata": {},
   "outputs": [
    {
     "name": "stdout",
     "output_type": "stream",
     "text": [
      "Columns of first matrix is equal to rows of second matrix\n"
     ]
    },
    {
     "data": {
      "text/plain": [
       "[[19, 22, 5], [43, 50, 11], [67, 78, 17]]"
      ]
     },
     "execution_count": 150,
     "metadata": {},
     "output_type": "execute_result"
    }
   ],
   "source": [
    "matrix_multiple(M1,M2)"
   ]
  },
  {
   "cell_type": "markdown",
   "metadata": {},
   "source": [
    "We can now check with a negative scenario where columns of first matrix is not same as the rows of second matrix"
   ]
  },
  {
   "cell_type": "code",
   "execution_count": 151,
   "metadata": {},
   "outputs": [],
   "source": [
    "M1 = [[1,2],[3,4],[5,6]] # 3x2 Matrix"
   ]
  },
  {
   "cell_type": "code",
   "execution_count": 152,
   "metadata": {},
   "outputs": [],
   "source": [
    "M2 = [[5,6]] # 1x2 Matrix"
   ]
  },
  {
   "cell_type": "code",
   "execution_count": 153,
   "metadata": {},
   "outputs": [
    {
     "ename": "Exception",
     "evalue": "Columns of first matrix is not equal to rows of second matrix, [[1, 2], [3, 4], [5, 6]] and [[5, 6]] cannot be multiplied",
     "output_type": "error",
     "traceback": [
      "\u001b[1;31m---------------------------------------------------------------------------\u001b[0m",
      "\u001b[1;31mException\u001b[0m                                 Traceback (most recent call last)",
      "\u001b[1;32m~\\AppData\\Local\\Temp/ipykernel_7120/1838188032.py\u001b[0m in \u001b[0;36m<module>\u001b[1;34m\u001b[0m\n\u001b[1;32m----> 1\u001b[1;33m \u001b[0mmatrix_multiple\u001b[0m\u001b[1;33m(\u001b[0m\u001b[0mM1\u001b[0m\u001b[1;33m,\u001b[0m\u001b[0mM2\u001b[0m\u001b[1;33m)\u001b[0m\u001b[1;33m\u001b[0m\u001b[1;33m\u001b[0m\u001b[0m\n\u001b[0m",
      "\u001b[1;32m~\\AppData\\Local\\Temp/ipykernel_7120/1129641542.py\u001b[0m in \u001b[0;36mmatrix_multiple\u001b[1;34m(M1, M2)\u001b[0m\n\u001b[0;32m      6\u001b[0m     \u001b[0mcolsM2\u001b[0m \u001b[1;33m=\u001b[0m \u001b[0mlen\u001b[0m\u001b[1;33m(\u001b[0m\u001b[0mM2\u001b[0m\u001b[1;33m[\u001b[0m\u001b[1;36m0\u001b[0m\u001b[1;33m]\u001b[0m\u001b[1;33m)\u001b[0m\u001b[1;33m\u001b[0m\u001b[1;33m\u001b[0m\u001b[0m\n\u001b[0;32m      7\u001b[0m     \u001b[1;32mif\u001b[0m \u001b[0mcolsM1\u001b[0m \u001b[1;33m!=\u001b[0m \u001b[0mrowsM2\u001b[0m\u001b[1;33m:\u001b[0m\u001b[1;33m\u001b[0m\u001b[1;33m\u001b[0m\u001b[0m\n\u001b[1;32m----> 8\u001b[1;33m         \u001b[1;32mraise\u001b[0m \u001b[0mException\u001b[0m\u001b[1;33m(\u001b[0m\u001b[1;34m\"Columns of first matrix is not equal to rows of second matrix, {} and {} cannot be multiplied\"\u001b[0m\u001b[1;33m.\u001b[0m\u001b[0mformat\u001b[0m\u001b[1;33m(\u001b[0m\u001b[0mM1\u001b[0m\u001b[1;33m,\u001b[0m\u001b[0mM2\u001b[0m\u001b[1;33m)\u001b[0m\u001b[1;33m)\u001b[0m\u001b[1;33m\u001b[0m\u001b[1;33m\u001b[0m\u001b[0m\n\u001b[0m\u001b[0;32m      9\u001b[0m     \u001b[1;32melse\u001b[0m\u001b[1;33m:\u001b[0m\u001b[1;33m\u001b[0m\u001b[1;33m\u001b[0m\u001b[0m\n\u001b[0;32m     10\u001b[0m         \u001b[0mprint\u001b[0m\u001b[1;33m(\u001b[0m\u001b[1;34m\"Columns of first matrix is equal to rows of second matrix\"\u001b[0m\u001b[1;33m)\u001b[0m\u001b[1;33m\u001b[0m\u001b[1;33m\u001b[0m\u001b[0m\n",
      "\u001b[1;31mException\u001b[0m: Columns of first matrix is not equal to rows of second matrix, [[1, 2], [3, 4], [5, 6]] and [[5, 6]] cannot be multiplied"
     ]
    }
   ],
   "source": [
    "matrix_multiple(M1,M2)"
   ]
  },
  {
   "cell_type": "markdown",
   "metadata": {},
   "source": [
    "We will now check with a matrix of mxn size with a vector of nx1 size, result should be a mx1 matrix\n",
    "    \n",
    "    M  = [a b] \n",
    "         [c d] \n",
    "         \n",
    "    V  = [e]\n",
    "         [g]\n",
    "    \n",
    "    M x V =   [ ae+bg ]\n",
    "              [ ce+dg ]"
   ]
  },
  {
   "cell_type": "code",
   "execution_count": 154,
   "metadata": {},
   "outputs": [],
   "source": [
    "M = [[1,2],[3,4],[5,6]] # 3x2 Matrix"
   ]
  },
  {
   "cell_type": "code",
   "execution_count": 155,
   "metadata": {},
   "outputs": [],
   "source": [
    "V = [[5],[6]] # 2x1 Vector"
   ]
  },
  {
   "cell_type": "code",
   "execution_count": 156,
   "metadata": {},
   "outputs": [
    {
     "name": "stdout",
     "output_type": "stream",
     "text": [
      "Columns of first matrix is equal to rows of second matrix\n"
     ]
    },
    {
     "data": {
      "text/plain": [
       "[[17], [39], [61]]"
      ]
     },
     "execution_count": 156,
     "metadata": {},
     "output_type": "execute_result"
    }
   ],
   "source": [
    "matrix_multiple(M,V)"
   ]
  },
  {
   "cell_type": "markdown",
   "metadata": {},
   "source": [
    "So we checked that if a mxn matrix is multiplied with a nx1 vector result is mx1 matrix"
   ]
  },
  {
   "cell_type": "markdown",
   "metadata": {},
   "source": [
    "# 1. Calculate the determinant of a 2x2 matrix. For any other matrix this function should raise a suitable exception. "
   ]
  },
  {
   "cell_type": "markdown",
   "metadata": {},
   "source": [
    "To calculate matrix determinant we use below method\n",
    " \n",
    " For a Matrix M\n",
    "     \n",
    "     M  = [a b]\n",
    "          [c d]\n",
    "          \n",
    " Determinant of M is:\n",
    "     \n",
    "     det(M) = a*d - c*d   \n",
    "     "
   ]
  },
  {
   "cell_type": "code",
   "execution_count": 157,
   "metadata": {},
   "outputs": [],
   "source": [
    "def matrix_determinant(M):\n",
    "    # First we check if a matrix is 2x2\n",
    "    # Then we calculate determinant of matrix M = [[a,b],[c,d]]\n",
    "    # determinant of M is (a*d - b*c)\n",
    "    \n",
    "    if matrix_size(M) == (2, 2):\n",
    "        print(\"{} is a 2x2 matrix\".format(M))\n",
    "        determinant = (M[0][0] * M[1][1]) - (M[1][0] * M[0][1])\n",
    "        print(\"Determinant of Matrix is: {}\".format(determinant))\n",
    "        return determinant\n",
    "    else:\n",
    "        raise Exception(\"{} is not a 2x2 Matrix\".format(M))"
   ]
  },
  {
   "cell_type": "markdown",
   "metadata": {},
   "source": [
    "Test to check determinant of a 2x2 matrix"
   ]
  },
  {
   "cell_type": "code",
   "execution_count": 158,
   "metadata": {},
   "outputs": [],
   "source": [
    "M = [[1,2],[3,4]] # 2x2 matrix"
   ]
  },
  {
   "cell_type": "code",
   "execution_count": 159,
   "metadata": {},
   "outputs": [
    {
     "name": "stdout",
     "output_type": "stream",
     "text": [
      "[[1, 2], [3, 4]] is a 2x2 matrix\n",
      "Determinant of Matrix is: -2\n"
     ]
    },
    {
     "data": {
      "text/plain": [
       "-2"
      ]
     },
     "execution_count": 159,
     "metadata": {},
     "output_type": "execute_result"
    }
   ],
   "source": [
    "matrix_determinant(M)"
   ]
  },
  {
   "cell_type": "markdown",
   "metadata": {},
   "source": [
    "Test to check determinant of a matrix other than 2x2"
   ]
  },
  {
   "cell_type": "code",
   "execution_count": 160,
   "metadata": {},
   "outputs": [],
   "source": [
    "M1 = [[1,2]] # 1x2"
   ]
  },
  {
   "cell_type": "code",
   "execution_count": 161,
   "metadata": {},
   "outputs": [
    {
     "ename": "Exception",
     "evalue": "[[1, 2]] is not a 2x2 Matrix",
     "output_type": "error",
     "traceback": [
      "\u001b[1;31m---------------------------------------------------------------------------\u001b[0m",
      "\u001b[1;31mException\u001b[0m                                 Traceback (most recent call last)",
      "\u001b[1;32m~\\AppData\\Local\\Temp/ipykernel_7120/178248385.py\u001b[0m in \u001b[0;36m<module>\u001b[1;34m\u001b[0m\n\u001b[1;32m----> 1\u001b[1;33m \u001b[0mmatrix_determinant\u001b[0m\u001b[1;33m(\u001b[0m\u001b[0mM1\u001b[0m\u001b[1;33m)\u001b[0m\u001b[1;33m\u001b[0m\u001b[1;33m\u001b[0m\u001b[0m\n\u001b[0m",
      "\u001b[1;32m~\\AppData\\Local\\Temp/ipykernel_7120/3250303729.py\u001b[0m in \u001b[0;36mmatrix_determinant\u001b[1;34m(M)\u001b[0m\n\u001b[0;32m     10\u001b[0m         \u001b[1;32mreturn\u001b[0m \u001b[0mdeterminant\u001b[0m\u001b[1;33m\u001b[0m\u001b[1;33m\u001b[0m\u001b[0m\n\u001b[0;32m     11\u001b[0m     \u001b[1;32melse\u001b[0m\u001b[1;33m:\u001b[0m\u001b[1;33m\u001b[0m\u001b[1;33m\u001b[0m\u001b[0m\n\u001b[1;32m---> 12\u001b[1;33m         \u001b[1;32mraise\u001b[0m \u001b[0mException\u001b[0m\u001b[1;33m(\u001b[0m\u001b[1;34m\"{} is not a 2x2 Matrix\"\u001b[0m\u001b[1;33m.\u001b[0m\u001b[0mformat\u001b[0m\u001b[1;33m(\u001b[0m\u001b[0mM\u001b[0m\u001b[1;33m)\u001b[0m\u001b[1;33m)\u001b[0m\u001b[1;33m\u001b[0m\u001b[1;33m\u001b[0m\u001b[0m\n\u001b[0m",
      "\u001b[1;31mException\u001b[0m: [[1, 2]] is not a 2x2 Matrix"
     ]
    }
   ],
   "source": [
    "matrix_determinant(M1)"
   ]
  },
  {
   "cell_type": "markdown",
   "metadata": {},
   "source": [
    "So we get an error if we try to use any other matrix other than 2x2"
   ]
  },
  {
   "cell_type": "markdown",
   "metadata": {},
   "source": [
    "# 2. Calculate the inverse of a 2x2 matrix.  For any other matrix this function should raise a suitable exception. An exception should also be raised if the matrix is non-invertible. "
   ]
  },
  {
   "cell_type": "markdown",
   "metadata": {},
   "source": [
    "To calculate inverse of matrix we use below method:\n",
    "\n",
    " For a Matrix M\n",
    "     \n",
    "     M  = [a b]\n",
    "          [c d]\n",
    "          \n",
    " Inverse of Matrix M is:\n",
    " \n",
    "     M` = 1/(ad - bc) [d   -b]\n",
    "                      [-c   d]"
   ]
  },
  {
   "cell_type": "code",
   "execution_count": 162,
   "metadata": {},
   "outputs": [],
   "source": [
    "def matrix_inverse(M):\n",
    "    # We first calculate determinant of matrix M\n",
    "    # Matrix should be 2x2 which is already checked in determinant function\n",
    "    # If determinant is non-zero then only Inverse of matrix is possible or else we raise exception\n",
    "    \n",
    "    det = matrix_determinant(M)\n",
    "    if det != 0:\n",
    "        print(\"\\nInverse of matrix {} is:\".format(M))\n",
    "        inv_matrix =  [[M[1][1]/det, (-1)*M[0][1]/det],\n",
    "                      [(-1)*M[1][0]/det, M[0][0]/det]]\n",
    "        return inv_matrix\n",
    "    else:\n",
    "        raise Exception(\"Matrix {} is non invertible since determinant is zero\".format(M))"
   ]
  },
  {
   "cell_type": "markdown",
   "metadata": {},
   "source": [
    "Test to check inverse of a 2x2 matrix"
   ]
  },
  {
   "cell_type": "code",
   "execution_count": 163,
   "metadata": {},
   "outputs": [],
   "source": [
    "M = [[4,7],[2,6]]"
   ]
  },
  {
   "cell_type": "code",
   "execution_count": 164,
   "metadata": {},
   "outputs": [
    {
     "name": "stdout",
     "output_type": "stream",
     "text": [
      "[[4, 7], [2, 6]] is a 2x2 matrix\n",
      "Determinant of Matrix is: 10\n",
      "\n",
      "Inverse of matrix [[4, 7], [2, 6]] is:\n"
     ]
    },
    {
     "data": {
      "text/plain": [
       "[[0.6, -0.7], [-0.2, 0.4]]"
      ]
     },
     "execution_count": 164,
     "metadata": {},
     "output_type": "execute_result"
    }
   ],
   "source": [
    "matrix_inverse(M)"
   ]
  },
  {
   "cell_type": "markdown",
   "metadata": {},
   "source": [
    "# 3. Calculate the transpose of an mxn matrix. "
   ]
  },
  {
   "cell_type": "markdown",
   "metadata": {},
   "source": [
    "To calculate transpose of a matrix we use below method:\n",
    "\n",
    "For a Matrix M\n",
    "\n",
    "     M  = [a b c]\n",
    "          [d e f]\n",
    "          [g h i]\n",
    "          \n",
    "Transpose of M\n",
    "\n",
    "     M_T = [a d g]\n",
    "           [b e h]\n",
    "           [c f i]"
   ]
  },
  {
   "cell_type": "code",
   "execution_count": 165,
   "metadata": {},
   "outputs": [],
   "source": [
    "def matrix_tranpose(M):\n",
    "    rows = len(M)\n",
    "    cols = len(M[0])\n",
    "    M_trans = []\n",
    "    for j in range(cols):\n",
    "        row = []\n",
    "        for i in range(rows):\n",
    "            row.append(M[i][j])\n",
    "        M_trans.append(row)\n",
    "    return M_trans"
   ]
  },
  {
   "cell_type": "markdown",
   "metadata": {},
   "source": [
    "Test to check transpose of a 3x2 matrix"
   ]
  },
  {
   "cell_type": "code",
   "execution_count": 166,
   "metadata": {},
   "outputs": [],
   "source": [
    "M = [[1,2],[3,4],[5,6]]"
   ]
  },
  {
   "cell_type": "code",
   "execution_count": 167,
   "metadata": {},
   "outputs": [
    {
     "data": {
      "text/plain": [
       "[[1, 3, 5], [2, 4, 6]]"
      ]
     },
     "execution_count": 167,
     "metadata": {},
     "output_type": "execute_result"
    }
   ],
   "source": [
    "matrix_tranpose(M)"
   ]
  },
  {
   "cell_type": "markdown",
   "metadata": {},
   "source": [
    "Test to check transpose of a 2x3 matrix"
   ]
  },
  {
   "cell_type": "code",
   "execution_count": 168,
   "metadata": {},
   "outputs": [],
   "source": [
    "M = [[2,3,4],[5,6,7]]"
   ]
  },
  {
   "cell_type": "code",
   "execution_count": 169,
   "metadata": {},
   "outputs": [
    {
     "data": {
      "text/plain": [
       "[[2, 5], [3, 6], [4, 7]]"
      ]
     },
     "execution_count": 169,
     "metadata": {},
     "output_type": "execute_result"
    }
   ],
   "source": [
    "matrix_tranpose(M)"
   ]
  },
  {
   "cell_type": "markdown",
   "metadata": {},
   "source": [
    "# 1. Using 2 above, convince yourself that v = A'Av = Iv, for a small set of 2x2 matrices A and 2-vectors v. A' indicates the matrix inverse. That is, show some examples that A'A is equivalent to the identity matrix I, and that multiplying a vector v by I results in an unchanged vector.  "
   ]
  },
  {
   "cell_type": "markdown",
   "metadata": {},
   "source": [
    "Let's take a 2x2 matrix"
   ]
  },
  {
   "cell_type": "code",
   "execution_count": 170,
   "metadata": {},
   "outputs": [],
   "source": [
    "A = [[0,1],[-2,1]]"
   ]
  },
  {
   "cell_type": "code",
   "execution_count": 171,
   "metadata": {},
   "outputs": [
    {
     "name": "stdout",
     "output_type": "stream",
     "text": [
      "[[0, 1], [-2, 1]] is a 2x2 matrix\n",
      "Determinant of Matrix is: 2\n",
      "\n",
      "Inverse of matrix [[0, 1], [-2, 1]] is:\n"
     ]
    }
   ],
   "source": [
    "A_ = matrix_inverse(A)"
   ]
  },
  {
   "cell_type": "markdown",
   "metadata": {},
   "source": [
    "Matrix multiplication of A with A_(Inverse of A) is an Identity matrix"
   ]
  },
  {
   "cell_type": "code",
   "execution_count": 172,
   "metadata": {},
   "outputs": [
    {
     "name": "stdout",
     "output_type": "stream",
     "text": [
      "Columns of first matrix is equal to rows of second matrix\n"
     ]
    }
   ],
   "source": [
    "I = matrix_multiple(A,A_)"
   ]
  },
  {
   "cell_type": "code",
   "execution_count": 173,
   "metadata": {},
   "outputs": [
    {
     "data": {
      "text/plain": [
       "[[1.0, 0.0], [0.0, 1.0]]"
      ]
     },
     "execution_count": 173,
     "metadata": {},
     "output_type": "execute_result"
    }
   ],
   "source": [
    "I"
   ]
  },
  {
   "cell_type": "markdown",
   "metadata": {},
   "source": [
    "We will use a vector (V) and multiply it with Identity matrix (I)"
   ]
  },
  {
   "cell_type": "code",
   "execution_count": 174,
   "metadata": {},
   "outputs": [],
   "source": [
    "V = [[2],[1]]"
   ]
  },
  {
   "cell_type": "code",
   "execution_count": 175,
   "metadata": {},
   "outputs": [
    {
     "name": "stdout",
     "output_type": "stream",
     "text": [
      "Columns of first matrix is equal to rows of second matrix\n"
     ]
    },
    {
     "data": {
      "text/plain": [
       "[[2.0], [1.0]]"
      ]
     },
     "execution_count": 175,
     "metadata": {},
     "output_type": "execute_result"
    }
   ],
   "source": [
    "matrix_multiple(I,V)"
   ]
  },
  {
   "cell_type": "markdown",
   "metadata": {},
   "source": [
    "Hence we can prove that v = AA`v = Iv"
   ]
  },
  {
   "cell_type": "markdown",
   "metadata": {},
   "source": [
    "We can check using another example of matrix"
   ]
  },
  {
   "cell_type": "code",
   "execution_count": 176,
   "metadata": {},
   "outputs": [],
   "source": [
    "M = [[-2.0, 1.0], [1.5, -0.5]]"
   ]
  },
  {
   "cell_type": "code",
   "execution_count": 177,
   "metadata": {},
   "outputs": [
    {
     "name": "stdout",
     "output_type": "stream",
     "text": [
      "[[-2.0, 1.0], [1.5, -0.5]] is a 2x2 matrix\n",
      "Determinant of Matrix is: -0.5\n",
      "\n",
      "Inverse of matrix [[-2.0, 1.0], [1.5, -0.5]] is:\n"
     ]
    }
   ],
   "source": [
    "M_ = matrix_inverse(M)"
   ]
  },
  {
   "cell_type": "code",
   "execution_count": 178,
   "metadata": {},
   "outputs": [
    {
     "data": {
      "text/plain": [
       "[[1.0, 2.0], [3.0, 4.0]]"
      ]
     },
     "execution_count": 178,
     "metadata": {},
     "output_type": "execute_result"
    }
   ],
   "source": [
    "M_"
   ]
  },
  {
   "cell_type": "code",
   "execution_count": 179,
   "metadata": {},
   "outputs": [
    {
     "name": "stdout",
     "output_type": "stream",
     "text": [
      "Columns of first matrix is equal to rows of second matrix\n"
     ]
    },
    {
     "data": {
      "text/plain": [
       "[[1.0, 0.0], [0.0, 1.0]]"
      ]
     },
     "execution_count": 179,
     "metadata": {},
     "output_type": "execute_result"
    }
   ],
   "source": [
    "matrix_multiple(M,M_)"
   ]
  },
  {
   "cell_type": "markdown",
   "metadata": {},
   "source": [
    "Result is an identity matrix, let's save it as I"
   ]
  },
  {
   "cell_type": "code",
   "execution_count": 180,
   "metadata": {},
   "outputs": [
    {
     "name": "stdout",
     "output_type": "stream",
     "text": [
      "Columns of first matrix is equal to rows of second matrix\n"
     ]
    }
   ],
   "source": [
    "I = matrix_multiple(M,M_)"
   ]
  },
  {
   "cell_type": "code",
   "execution_count": 181,
   "metadata": {},
   "outputs": [],
   "source": [
    "V = [[1],[-2]]"
   ]
  },
  {
   "cell_type": "code",
   "execution_count": 182,
   "metadata": {},
   "outputs": [
    {
     "name": "stdout",
     "output_type": "stream",
     "text": [
      "Columns of first matrix is equal to rows of second matrix\n"
     ]
    },
    {
     "data": {
      "text/plain": [
       "[[1.0], [-2.0]]"
      ]
     },
     "execution_count": 182,
     "metadata": {},
     "output_type": "execute_result"
    }
   ],
   "source": [
    "matrix_multiple(I,V)"
   ]
  },
  {
   "cell_type": "markdown",
   "metadata": {},
   "source": [
    "So we can see that if we do matrix multiplication of I*V we get vector V."
   ]
  },
  {
   "cell_type": "markdown",
   "metadata": {},
   "source": [
    "# 2. When might it be the case that A'A ≠ I ?"
   ]
  },
  {
   "cell_type": "markdown",
   "metadata": {},
   "source": [
    "This will be the case when the determinant of A is 0 and inverse of A will then not be possible\n",
    "\n",
    "When determinant of A det(A) = 0, transformation associated with the system of equation squeeshes space into a smaller dimension like a line, and there is no inverse possible as we cannot unsqueesh a line and turn it into a space.\n"
   ]
  },
  {
   "cell_type": "code",
   "execution_count": null,
   "metadata": {},
   "outputs": [],
   "source": []
  }
 ],
 "metadata": {
  "kernelspec": {
   "display_name": "Python 3 (ipykernel)",
   "language": "python",
   "name": "python3"
  },
  "language_info": {
   "codemirror_mode": {
    "name": "ipython",
    "version": 3
   },
   "file_extension": ".py",
   "mimetype": "text/x-python",
   "name": "python",
   "nbconvert_exporter": "python",
   "pygments_lexer": "ipython3",
   "version": "3.9.6"
  }
 },
 "nbformat": 4,
 "nbformat_minor": 4
}
