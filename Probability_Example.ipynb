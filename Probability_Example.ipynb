{
 "cells": [
  {
   "cell_type": "markdown",
   "metadata": {},
   "source": [
    "### Student details"
   ]
  },
  {
   "cell_type": "markdown",
   "metadata": {},
   "source": [
    "Your Name: Jaydeep Samanta"
   ]
  },
  {
   "cell_type": "markdown",
   "metadata": {},
   "source": [
    "Your ID number: 21115184"
   ]
  },
  {
   "cell_type": "markdown",
   "metadata": {},
   "source": [
    "# Task 1\n",
    "\n",
    "Describe two separate problems that contain a chance element. One experiment should use a continuous random variable, the other a discrete random variable.  Use two different distributions (normal, uniform, binomial, …) \n",
    "\n",
    "Write Python code to simulate experiments with your two chosen problems. The simulations can include a simulated action (e.g. rolling dice) or a simulated observation (e.g. observing rain or sunshine). The code should run the experiment enough times such that you can calculate/approximate the following: \n",
    "\n",
    "The expected value of your random variable. \n",
    "The standard deviation of your random variable. \n",
    "Additionally, you should be able to: \n",
    "\n",
    "Plot the distribution found in your simulated experiment with an appropriate number of 'bins' "
   ]
  },
  {
   "cell_type": "markdown",
   "metadata": {},
   "source": [
    "## Approach\n",
    "\n",
    "I created two different problems, one that used discrete random variables and the other used continuous random variables respectively. Then using these experiments I used binomial distribution for discrete and uniform distribution for continuous random variables to plot the distribution. Then calculated the mean and standard deviation of each distribution both manually and using numpy and compared both the results.  "
   ]
  },
  {
   "cell_type": "markdown",
   "metadata": {},
   "source": [
    "## Manual Calculations\n",
    "\n",
    "(Provide details of the manual calculations)"
   ]
  },
  {
   "cell_type": "markdown",
   "metadata": {},
   "source": [
    "# Experiment 1"
   ]
  },
  {
   "cell_type": "markdown",
   "metadata": {},
   "source": [
    "Dice rolling game: For the first experiment, a player has to roll two Die (Dice) at the same time and if the sum of those two die is more than 7 then the player wins or else it losses. So here the total number of possible outcomes after rolling dice is 36, and out of that possibility of rolling a sum greater than 7 is 15. So, the probablity of winning is 15/36 i.e 0.42, this is a discrete random variable problem and we will be using binomial distribution to plot the possible outcomes. "
   ]
  },
  {
   "cell_type": "code",
   "execution_count": 1,
   "metadata": {},
   "outputs": [
    {
     "name": "stdout",
     "output_type": "stream",
     "text": [
      "Dice rolling game!!!\n",
      "If the sum is greater than 7 you win\n",
      "\n",
      "You rolled: 8\n",
      "===================You Won!===================\n",
      "\n",
      "\n",
      "\n",
      "Manual calculation of Probability of a player winning the game in 5 to 10 tries: 0.417604\n",
      "Experimental calculation of Probability of a player winning the game in 5 to 10 tries: 0.424\n",
      "\n",
      "Expected value or mean for this data: 4.2\n",
      "Standard deviation for this data: 1.5607690412101338\n",
      "\n",
      "Mean using numpy: 4.215\n",
      "Standard deviation using numpy: 1.5416792792276865\n"
     ]
    },
    {
     "data": {
      "image/png": "[encoded data removed]",
      "text/plain": [
       "<Figure size 360x360 with 1 Axes>"
      ]
     },
     "metadata": {
      "needs_background": "light"
     },
     "output_type": "display_data"
    }
   ],
   "source": [
    "# Simulation using numpy random variable\n",
    "\n",
    "# import libraries\n",
    "import numpy as np\n",
    "import seaborn as sns\n",
    "import matplotlib.pyplot as plt\n",
    "from scipy.special import comb\n",
    "\n",
    "# Dice rolling Game\n",
    "\n",
    "print(\"Dice rolling game!!!\")\n",
    "print(\"If the sum is greater than 7 you win\")\n",
    "Die1 = np.random.randint(1,6)\n",
    "Die2 = np.random.randint(1,6)\n",
    "# Sum values to get score\n",
    "Sum = Die1 + Die2\n",
    "print(\"\\nYou rolled: {}\".format(Sum))\n",
    "if Sum > 7:\n",
    "    print(\"===================You Won!===================\")\n",
    "else:\n",
    "    print(\"===================Sorry, You lost!===================\")\n",
    "\n",
    "print(\"\\n\\n\")\n",
    "\n",
    "# define distribution parameters\n",
    "# Variable runs, Number of trials(n), probability of success (p)\n",
    "runs = 1000 \n",
    "n = 10\n",
    "p = 0.42 \n",
    "\n",
    "# Binomial distribution\n",
    "binomial_data = np.random.binomial(n,p,runs)\n",
    "\n",
    "# Manual Probability of winning in 5 to 10 tries\n",
    "r = np.arange(11)\n",
    "prob_manual_b = comb(n,r) * (p ** r) * ((1-p) ** (n-r))\n",
    "\n",
    "# Experimental probability of winning in 5 to 10 tries for number of runs\n",
    "# Calculate values, counts and frequency for the experiment\n",
    "values, counts = np.unique(binomial_data,return_counts=True)\n",
    "frequency = counts/runs\n",
    "\n",
    "prob_experiment_b = sum([freq for freq,val in zip(frequency,values) if val>=5 and val<10])\n",
    "\n",
    "# Calculate probability\n",
    "print(\"Manual calculation of Probability of a player winning the game in 5 to 10 tries: {}\".format(round(sum(prob_manual_b[5:10]),6)))\n",
    "print(\"Experimental calculation of Probability of a player winning the game in 5 to 10 tries: {}\\n\".format(round(prob_experiment_b,6)))\n",
    "\n",
    "# Calculate mean\n",
    "mean_b = n * p\n",
    "print(\"Expected value or mean for this data: {}\".format(mean_b))\n",
    "\n",
    "\n",
    "# Calculate standard deviation\n",
    "std_b = np.sqrt([(n * p)*(1 - p)])[0]\n",
    "print(\"Standard deviation for this data: {}\\n\".format(std_b))\n",
    "\n",
    "# Calculate mean and std using numpy\n",
    "np_mean_b = np.mean(binomial_data)\n",
    "np_std_b = np.std(binomial_data)\n",
    "print(\"Mean using numpy: {}\".format(np_mean_b))\n",
    "print(\"Standard deviation using numpy: {}\".format(np_std_b))\n",
    "\n",
    "# Ploting the binomial distribution\n",
    "sns.displot(data=binomial_data, kind=\"hist\", bins=40)\n",
    "plt.xlabel(\"values\")\n",
    "plt.ylabel(\"frequency\")\n",
    "plt.show()"
   ]
  },
  {
   "cell_type": "markdown",
   "metadata": {},
   "source": [
    "## Result\n",
    "We can see that the probability of a player to win the game (rolling a sum greater than 7) in his 5 to 10 tries is 0.41 i.e 41% chance of winning, even after several such experiments we get approximately the same probability. "
   ]
  },
  {
   "cell_type": "markdown",
   "metadata": {},
   "source": [
    "## Experiment 2\n",
    "In this experiment we will calculate the probability of the temperature of room between 10 to 15 degrees. So our temperature range is from 5 to 50 degrees, 5 being minimum and 50 being the maximum temperature. This is the case of continuous random variable and we will use uniform distribution to calculate the probability."
   ]
  },
  {
   "cell_type": "code",
   "execution_count": 2,
   "metadata": {},
   "outputs": [
    {
     "name": "stdout",
     "output_type": "stream",
     "text": [
      "\n",
      "Manual calulation of probability for temperature in between 10 and 20 degrees: 0.2\n",
      "Experimental calculation of probability for temperature in between 10 to 20 degrees: 0.215\n",
      "\n",
      "Expected value or mean for the data: 25.0\n",
      "Manual Standard deviation for the data: 14.433756729740644\n",
      "\n",
      "Mean using numpy: 24.734145714066415\n",
      "Standard deviation using numpy: 14.460494753088799\n"
     ]
    },
    {
     "data": {
      "image/png": "[encoded data removed]",
      "text/plain": [
       "<Figure size 432x288 with 1 Axes>"
      ]
     },
     "metadata": {
      "needs_background": "light"
     },
     "output_type": "display_data"
    }
   ],
   "source": [
    "# define distribution parameters\n",
    "runs = 1000\n",
    "min_temp = 0.0\n",
    "max_temp = 50.0\n",
    "\n",
    "# Expected temperature range\n",
    "exp_t1 = 10.0\n",
    "exp_t2 = 20.0\n",
    "\n",
    "# Uniform distribution of the data\n",
    "uniform_data = np.random.uniform(min_temp, max_temp, runs)\n",
    "\n",
    "# Calculate probability manually when the temperature is between 10 and 20\n",
    "manual_prob_u = (exp_t2 - exp_t1)/(max_temp-min_temp) \n",
    "\n",
    "# Calculate probability after number of experiment runs when the temperature is between 10 and 20\n",
    "experiment_prob_u = len([temp for temp in uniform_data if temp>exp_t1 and temp<exp_t2])/runs\n",
    "\n",
    "print(\"\\nManual calulation of probability for temperature in between 10 and 20 degrees: {}\".format(manual_prob_u))\n",
    "print(\"Experimental calculation of probability for temperature in between 10 to 20 degrees: {}\\n\".format(experiment_prob_u))\n",
    "\n",
    "# Calculate mean manually\n",
    "mean_u = (max_temp+min_temp)/2\n",
    "print(\"Expected value or mean for the data: {}\".format(mean_u))\n",
    "\n",
    "# Calculate standard deviation manually\n",
    "std_u = np.sqrt([(max_temp-min_temp)**2/12])[0]\n",
    "print(\"Manual Standard deviation for the data: {}\\n\".format(std_u))\n",
    "\n",
    "# Calculate mean and std using numpy\n",
    "np_mean_u = np.mean(uniform_data)\n",
    "np_std_u = np.std(uniform_data)\n",
    "print(\"Mean using numpy: {}\".format(np_mean_u))\n",
    "print(\"Standard deviation using numpy: {}\".format(np_std_u))\n",
    "\n",
    "# Plot the uniform distribution\n",
    "plt.hist(uniform_data, bins = 50, density = True, rwidth=0.75)\n",
    "plt.xlabel(\"temperature in degrees\")\n",
    "plt.ylabel(\"frequency\")\n",
    "plt.show()"
   ]
  },
  {
   "cell_type": "markdown",
   "metadata": {},
   "source": [
    "## Result\n",
    "Here we see that the probability of temperature in range of 10 to 20 degrees is 0.20 i.e 20.0 %, we checked that both using manually and running experiments for number of iterations."
   ]
  },
  {
   "cell_type": "code",
   "execution_count": null,
   "metadata": {},
   "outputs": [],
   "source": []
  }
 ],
 "metadata": {
  "kernelspec": {
   "display_name": "Python 3 (ipykernel)",
   "language": "python",
   "name": "python3"
  },
  "language_info": {
   "codemirror_mode": {
    "name": "ipython",
    "version": 3
   },
   "file_extension": ".py",
   "mimetype": "text/x-python",
   "name": "python",
   "nbconvert_exporter": "python",
   "pygments_lexer": "ipython3",
   "version": "3.9.6"
  }
 },
 "nbformat": 4,
 "nbformat_minor": 4
}
